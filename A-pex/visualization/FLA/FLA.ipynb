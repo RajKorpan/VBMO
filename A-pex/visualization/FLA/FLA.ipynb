{
 "cells": [
  {
   "cell_type": "code",
   "execution_count": 12,
   "id": "9d297ccb-bf60-4621-a2f8-c54da5d9e2bb",
   "metadata": {},
   "outputs": [],
   "source": [
    "import numpy as np                  \n",
    "import pandas as pd      \n",
    "import json\n",
    "import platypus as plat        \n",
    "from matplotlib import pyplot as plt\n",
    "import pygmo as pg"
   ]
  },
  {
   "cell_type": "code",
   "execution_count": 13,
   "id": "1f9217e9-ada7-4d8f-ba39-9f01208acc61",
   "metadata": {},
   "outputs": [],
   "source": [
    "# FIX\n",
    "# FRONTS OF SIZE ONE HAVE A NON ZERO NORM D-SCORE"
   ]
  },
  {
   "cell_type": "code",
   "execution_count": 14,
   "id": "5d1ed2bc-1d8c-4bfe-9422-e5a09ab496d6",
   "metadata": {},
   "outputs": [
    {
     "ename": "FileNotFoundError",
     "evalue": "[Errno 2] No such file or directory: '1.0-FLA-MORE_SLACK.json'",
     "output_type": "error",
     "traceback": [
      "\u001b[0;31m---------------------------------------------------------------------------\u001b[0m",
      "\u001b[0;31mFileNotFoundError\u001b[0m                         Traceback (most recent call last)",
      "Cell \u001b[0;32mIn[14], line 8\u001b[0m\n\u001b[1;32m      5\u001b[0m R_0_001 \u001b[38;5;241m=\u001b[39m pd\u001b[38;5;241m.\u001b[39mjson_normalize(json\u001b[38;5;241m.\u001b[39mload(\u001b[38;5;28mopen\u001b[39m(\u001b[38;5;124m\"\u001b[39m\u001b[38;5;124m0.001-FLA-RANDOM.json\u001b[39m\u001b[38;5;124m\"\u001b[39m))[\u001b[38;5;124m\"\u001b[39m\u001b[38;5;124mdata\u001b[39m\u001b[38;5;124m\"\u001b[39m])\n\u001b[1;32m      6\u001b[0m R_0_0001 \u001b[38;5;241m=\u001b[39m pd\u001b[38;5;241m.\u001b[39mjson_normalize(json\u001b[38;5;241m.\u001b[39mload(\u001b[38;5;28mopen\u001b[39m(\u001b[38;5;124m\"\u001b[39m\u001b[38;5;124m0.0001-FLA-RANDOM.json\u001b[39m\u001b[38;5;124m\"\u001b[39m))[\u001b[38;5;124m\"\u001b[39m\u001b[38;5;124mdata\u001b[39m\u001b[38;5;124m\"\u001b[39m])\n\u001b[0;32m----> 8\u001b[0m MS_1_0 \u001b[38;5;241m=\u001b[39m pd\u001b[38;5;241m.\u001b[39mjson_normalize(json\u001b[38;5;241m.\u001b[39mload(\u001b[38;5;28;43mopen\u001b[39;49m\u001b[43m(\u001b[49m\u001b[38;5;124;43m\"\u001b[39;49m\u001b[38;5;124;43m1.0-FLA-MORE_SLACK.json\u001b[39;49m\u001b[38;5;124;43m\"\u001b[39;49m\u001b[43m)\u001b[49m)[\u001b[38;5;124m\"\u001b[39m\u001b[38;5;124mdata\u001b[39m\u001b[38;5;124m\"\u001b[39m])\n\u001b[1;32m      9\u001b[0m MS_0_5 \u001b[38;5;241m=\u001b[39m pd\u001b[38;5;241m.\u001b[39mjson_normalize(json\u001b[38;5;241m.\u001b[39mload(\u001b[38;5;28mopen\u001b[39m(\u001b[38;5;124m\"\u001b[39m\u001b[38;5;124m0.5-FLA-MORE_SLACK.json\u001b[39m\u001b[38;5;124m\"\u001b[39m))[\u001b[38;5;124m\"\u001b[39m\u001b[38;5;124mdata\u001b[39m\u001b[38;5;124m\"\u001b[39m])\n\u001b[1;32m     10\u001b[0m MS_0_1 \u001b[38;5;241m=\u001b[39m pd\u001b[38;5;241m.\u001b[39mjson_normalize(json\u001b[38;5;241m.\u001b[39mload(\u001b[38;5;28mopen\u001b[39m(\u001b[38;5;124m\"\u001b[39m\u001b[38;5;124m0.1-FLA-MORE_SLACK.json\u001b[39m\u001b[38;5;124m\"\u001b[39m))[\u001b[38;5;124m\"\u001b[39m\u001b[38;5;124mdata\u001b[39m\u001b[38;5;124m\"\u001b[39m])\n",
      "File \u001b[0;32m/opt/anaconda3/envs/VBEA/lib/python3.12/site-packages/IPython/core/interactiveshell.py:324\u001b[0m, in \u001b[0;36m_modified_open\u001b[0;34m(file, *args, **kwargs)\u001b[0m\n\u001b[1;32m    317\u001b[0m \u001b[38;5;28;01mif\u001b[39;00m file \u001b[38;5;129;01min\u001b[39;00m {\u001b[38;5;241m0\u001b[39m, \u001b[38;5;241m1\u001b[39m, \u001b[38;5;241m2\u001b[39m}:\n\u001b[1;32m    318\u001b[0m     \u001b[38;5;28;01mraise\u001b[39;00m \u001b[38;5;167;01mValueError\u001b[39;00m(\n\u001b[1;32m    319\u001b[0m         \u001b[38;5;124mf\u001b[39m\u001b[38;5;124m\"\u001b[39m\u001b[38;5;124mIPython won\u001b[39m\u001b[38;5;124m'\u001b[39m\u001b[38;5;124mt let you open fd=\u001b[39m\u001b[38;5;132;01m{\u001b[39;00mfile\u001b[38;5;132;01m}\u001b[39;00m\u001b[38;5;124m by default \u001b[39m\u001b[38;5;124m\"\u001b[39m\n\u001b[1;32m    320\u001b[0m         \u001b[38;5;124m\"\u001b[39m\u001b[38;5;124mas it is likely to crash IPython. If you know what you are doing, \u001b[39m\u001b[38;5;124m\"\u001b[39m\n\u001b[1;32m    321\u001b[0m         \u001b[38;5;124m\"\u001b[39m\u001b[38;5;124myou can use builtins\u001b[39m\u001b[38;5;124m'\u001b[39m\u001b[38;5;124m open.\u001b[39m\u001b[38;5;124m\"\u001b[39m\n\u001b[1;32m    322\u001b[0m     )\n\u001b[0;32m--> 324\u001b[0m \u001b[38;5;28;01mreturn\u001b[39;00m \u001b[43mio_open\u001b[49m\u001b[43m(\u001b[49m\u001b[43mfile\u001b[49m\u001b[43m,\u001b[49m\u001b[43m \u001b[49m\u001b[38;5;241;43m*\u001b[39;49m\u001b[43margs\u001b[49m\u001b[43m,\u001b[49m\u001b[43m \u001b[49m\u001b[38;5;241;43m*\u001b[39;49m\u001b[38;5;241;43m*\u001b[39;49m\u001b[43mkwargs\u001b[49m\u001b[43m)\u001b[49m\n",
      "\u001b[0;31mFileNotFoundError\u001b[0m: [Errno 2] No such file or directory: '1.0-FLA-MORE_SLACK.json'"
     ]
    }
   ],
   "source": [
    "R_1_0 = pd.json_normalize(json.load(open(\"1.0-FLA-RANDOM.json\"))[\"data\"])\n",
    "R_0_5 = pd.json_normalize(json.load(open(\"0.5-FLA-RANDOM.json\"))[\"data\"])\n",
    "R_0_1 = pd.json_normalize(json.load(open(\"0.1-FLA-RANDOM.json\"))[\"data\"])\n",
    "R_0_01 = pd.json_normalize(json.load(open(\"0.01-FLA-RANDOM.json\"))[\"data\"])\n",
    "R_0_001 = pd.json_normalize(json.load(open(\"0.001-FLA-RANDOM.json\"))[\"data\"])\n",
    "R_0_0001 = pd.json_normalize(json.load(open(\"0.0001-FLA-RANDOM.json\"))[\"data\"])\n",
    "\n",
    "MS_1_0 = pd.json_normalize(json.load(open(\"1.0-FLA-MORE_SLACK.json\"))[\"data\"])\n",
    "MS_0_5 = pd.json_normalize(json.load(open(\"0.5-FLA-MORE_SLACK.json\"))[\"data\"])\n",
    "MS_0_1 = pd.json_normalize(json.load(open(\"0.1-FLA-MORE_SLACK.json\"))[\"data\"])\n",
    "MS_0_01 = pd.json_normalize(json.load(open(\"0.01-FLA-MORE_SLACK.json\"))[\"data\"])\n",
    "MS_0_001 = pd.json_normalize(json.load(open(\"0.001-FLA-MORE_SLACK.json\"))[\"data\"])\n",
    "MS_0_0001 = pd.json_normalize(json.load(open(\"0.0001-FLA-MORE_SLACK.json\"))[\"data\"])"
   ]
  },
  {
   "cell_type": "code",
   "execution_count": null,
   "id": "bf3a2041-fa92-4009-a6b5-8a10c94e7009",
   "metadata": {},
   "outputs": [],
   "source": [
    "R_0_1"
   ]
  },
  {
   "cell_type": "code",
   "execution_count": null,
   "id": "3f46988c-7337-4fc8-8658-73fdb7649c3c",
   "metadata": {},
   "outputs": [],
   "source": [
    "#front must be a 2d matrix\n",
    "# calculates the HV of a front\n",
    "def front_hv(front):\n",
    "    inver = [] # make all objective cost negative\n",
    "    for row in front:\n",
    "        temp_row = []\n",
    "        for val in row:\n",
    "            temp_row.append(-val)\n",
    "    inver.append(temp_row)\n",
    "    \n",
    "    ref = [0] * len(front[0]) # always use reference point {0, 0, ..., 0}\n",
    "    hv = pg.hypervolume(inver) #initialize hypervolume object\n",
    "    # Sometimes the front is too small to use \n",
    "    try: \n",
    "        h = hv.compute(ref)\n",
    "    except ValueError:\n",
    "        h = -1\n",
    "        print(\"-----------------------\", \"\\n\", \"no good ref point\")\n",
    "        print(front)\n",
    "    return h"
   ]
  },
  {
   "cell_type": "code",
   "execution_count": null,
   "id": "023f1b70-3086-4d47-b6e9-17c991a6abfc",
   "metadata": {},
   "outputs": [],
   "source": [
    "def DF_HV(df):\n",
    "    fronts = df[\"front\"].to_list()\n",
    "    HV = []\n",
    "    for front in fronts:\n",
    "        HV.append(front_hv(front))\n",
    "    return HV"
   ]
  },
  {
   "cell_type": "code",
   "execution_count": 7,
   "id": "64ac0912-a4a7-4383-9fc5-d404fc376ed7",
   "metadata": {},
   "outputs": [
    {
     "ename": "NameError",
     "evalue": "name 'DF_HV' is not defined",
     "output_type": "error",
     "traceback": [
      "\u001b[0;31m---------------------------------------------------------------------------\u001b[0m",
      "\u001b[0;31mNameError\u001b[0m                                 Traceback (most recent call last)",
      "Cell \u001b[0;32mIn[7], line 2\u001b[0m\n\u001b[1;32m      1\u001b[0m \u001b[38;5;66;03m# Hypervolumen\u001b[39;00m\n\u001b[0;32m----> 2\u001b[0m R_1_0_hv \u001b[38;5;241m=\u001b[39m \u001b[43mDF_HV\u001b[49m(R_1_0)\n\u001b[1;32m      3\u001b[0m R_0_5_hv \u001b[38;5;241m=\u001b[39m DF_HV(R_0_5)\n\u001b[1;32m      4\u001b[0m R_0_1_hv \u001b[38;5;241m=\u001b[39m DF_HV(R_0_1)\n",
      "\u001b[0;31mNameError\u001b[0m: name 'DF_HV' is not defined"
     ]
    }
   ],
   "source": [
    "# Hypervolumen\n",
    "R_1_0_hv = DF_HV(R_1_0)\n",
    "R_0_5_hv = DF_HV(R_0_5)\n",
    "R_0_1_hv = DF_HV(R_0_1)\n",
    "R_0_01_hv = DF_HV(R_0_01)\n",
    "R_0_001_hv = DF_HV(R_0_001)\n",
    "R_0_0001_hv = DF_HV(R_0_0001)\n",
    "\n",
    "MS_1_0_hv = DF_HV(MS_1_0)\n",
    "MS_0_5_hv = DF_HV(MS_0_5)\n",
    "MS_0_1_hv = DF_HV(MS_0_1)\n",
    "MS_0_01_hv = DF_HV(MS_0_01)\n",
    "MS_0_001_hv = DF_HV(MS_0_001)\n",
    "MS_0_0001_hv = DF_HV(MS_0_0001)"
   ]
  },
  {
   "cell_type": "code",
   "execution_count": 8,
   "id": "a2c6665d-f7b9-4cff-a89c-aebb4c642806",
   "metadata": {},
   "outputs": [
    {
     "ename": "NameError",
     "evalue": "name 'R_1_0_hv' is not defined",
     "output_type": "error",
     "traceback": [
      "\u001b[0;31m---------------------------------------------------------------------------\u001b[0m",
      "\u001b[0;31mNameError\u001b[0m                                 Traceback (most recent call last)",
      "Cell \u001b[0;32mIn[8], line 2\u001b[0m\n\u001b[1;32m      1\u001b[0m \u001b[38;5;66;03m# Avg Hypervolume\u001b[39;00m\n\u001b[0;32m----> 2\u001b[0m R_1_0_hv_avg \u001b[38;5;241m=\u001b[39m np\u001b[38;5;241m.\u001b[39mmean(\u001b[43mR_1_0_hv\u001b[49m)\n\u001b[1;32m      3\u001b[0m R_0_5_hv_avg \u001b[38;5;241m=\u001b[39m np\u001b[38;5;241m.\u001b[39mmean(R_0_5_hv)\n\u001b[1;32m      4\u001b[0m R_0_1_hv_avg \u001b[38;5;241m=\u001b[39m np\u001b[38;5;241m.\u001b[39mmean(R_0_1_hv)\n",
      "\u001b[0;31mNameError\u001b[0m: name 'R_1_0_hv' is not defined"
     ]
    }
   ],
   "source": [
    "# Avg Hypervolume\n",
    "R_1_0_hv_avg = np.mean(R_1_0_hv)\n",
    "R_0_5_hv_avg = np.mean(R_0_5_hv)\n",
    "R_0_1_hv_avg = np.mean(R_0_1_hv)\n",
    "R_0_01_hv_avg = np.mean(R_0_01_hv)\n",
    "R_0_001_hv_avg = np.mean(R_0_001_hv)\n",
    "R_0_0001_hv_avg = np.mean(R_0_0001_hv)\n",
    "\n",
    "MS_1_0_hv_avg = np.mean(MS_1_0_hv)\n",
    "MS_0_5_hv_avg = np.mean(MS_0_5_hv)\n",
    "MS_0_1_hv_avg = np.mean(MS_0_1_hv)\n",
    "MS_0_01_hv_avg = np.mean(MS_0_01_hv)\n",
    "MS_0_001_hv_avg = np.mean(MS_0_001_hv)\n",
    "MS_0_0001_hv_avg = np.mean(MS_0_0001_hv)"
   ]
  },
  {
   "cell_type": "code",
   "execution_count": 9,
   "id": "d6e2e762-b4a1-45cc-b5bb-42c620609d0b",
   "metadata": {},
   "outputs": [
    {
     "ename": "NameError",
     "evalue": "name 'R_1_0_hv_avg' is not defined",
     "output_type": "error",
     "traceback": [
      "\u001b[0;31m---------------------------------------------------------------------------\u001b[0m",
      "\u001b[0;31mNameError\u001b[0m                                 Traceback (most recent call last)",
      "Cell \u001b[0;32mIn[9], line 9\u001b[0m\n\u001b[1;32m      1\u001b[0m Col \u001b[38;5;241m=\u001b[39m [\n\u001b[1;32m      2\u001b[0m \u001b[38;5;124m\"\u001b[39m\u001b[38;5;124mR_1_0\u001b[39m\u001b[38;5;124m\"\u001b[39m, \n\u001b[1;32m      3\u001b[0m \u001b[38;5;124m\"\u001b[39m\u001b[38;5;124mR_0_5\u001b[39m\u001b[38;5;124m\"\u001b[39m,\n\u001b[0;32m   (...)\u001b[0m\n\u001b[1;32m      6\u001b[0m \u001b[38;5;124m\"\u001b[39m\u001b[38;5;124mR_0_001\u001b[39m\u001b[38;5;124m\"\u001b[39m,\n\u001b[1;32m      7\u001b[0m \u001b[38;5;124m\"\u001b[39m\u001b[38;5;124mR_0_0001\u001b[39m\u001b[38;5;124m\"\u001b[39m]\n\u001b[1;32m      8\u001b[0m Val \u001b[38;5;241m=\u001b[39m [\n\u001b[0;32m----> 9\u001b[0m \u001b[43mR_1_0_hv_avg\u001b[49m, \n\u001b[1;32m     10\u001b[0m R_0_5_hv_avg,\n\u001b[1;32m     11\u001b[0m R_0_1_hv_avg,\n\u001b[1;32m     12\u001b[0m R_0_01_hv_avg,\n\u001b[1;32m     13\u001b[0m R_0_001_hv_avg,\n\u001b[1;32m     14\u001b[0m R_0_0001_hv_avg]\n\u001b[1;32m     16\u001b[0m plt\u001b[38;5;241m.\u001b[39mbar(Col,Val)\n\u001b[1;32m     17\u001b[0m plt\u001b[38;5;241m.\u001b[39mtitle(\u001b[38;5;124m\"\u001b[39m\u001b[38;5;124mRANDOM Average Hypervolume\u001b[39m\u001b[38;5;124m\"\u001b[39m)\n",
      "\u001b[0;31mNameError\u001b[0m: name 'R_1_0_hv_avg' is not defined"
     ]
    }
   ],
   "source": [
    "Col = [\n",
    "\"R_1_0\", \n",
    "\"R_0_5\",\n",
    "\"R_0_1\",\n",
    "\"R_0_01\",\n",
    "\"R_0_001\",\n",
    "\"R_0_0001\"]\n",
    "Val = [\n",
    "R_1_0_hv_avg, \n",
    "R_0_5_hv_avg,\n",
    "R_0_1_hv_avg,\n",
    "R_0_01_hv_avg,\n",
    "R_0_001_hv_avg,\n",
    "R_0_0001_hv_avg]\n",
    "\n",
    "plt.bar(Col,Val)\n",
    "plt.title(\"RANDOM Average Hypervolume\")\n",
    "# plt.yscale(\"log\")\n",
    "plt.show()\n",
    "\n",
    "Col = [\n",
    "\"MS_1_0\", \n",
    "\"MS_0_5\",\n",
    "\"MS_0_1\",\n",
    "\"MS_0_01\",\n",
    "\"MS_0_001\",\n",
    "\"MS_0_0001\"]\n",
    "Val = [\n",
    "MS_1_0_hv_avg, \n",
    "MS_0_5_hv_avg,\n",
    "MS_0_1_hv_avg,\n",
    "MS_0_01_hv_avg,\n",
    "MS_0_001_hv_avg,\n",
    "MS_0_0001_hv_avg]\n",
    "\n",
    "plt.bar(Col,Val)\n",
    "plt.title(\"MORE_SLACK Average Hypervolume\")\n",
    "#plt.yscale(\"log\")\n",
    "plt.show()\n"
   ]
  },
  {
   "cell_type": "code",
   "execution_count": 10,
   "id": "b970eac2-9f3d-48a9-bbf8-4fce28773826",
   "metadata": {},
   "outputs": [
    {
     "name": "stdout",
     "output_type": "stream",
     "text": [
      "RANDOM Avg Hypervolume\n"
     ]
    },
    {
     "ename": "NameError",
     "evalue": "name 'R_1_0_hv_avg' is not defined",
     "output_type": "error",
     "traceback": [
      "\u001b[0;31m---------------------------------------------------------------------------\u001b[0m",
      "\u001b[0;31mNameError\u001b[0m                                 Traceback (most recent call last)",
      "Cell \u001b[0;32mIn[10], line 2\u001b[0m\n\u001b[1;32m      1\u001b[0m \u001b[38;5;28mprint\u001b[39m(\u001b[38;5;124m\"\u001b[39m\u001b[38;5;124mRANDOM Avg Hypervolume\u001b[39m\u001b[38;5;124m\"\u001b[39m)\n\u001b[0;32m----> 2\u001b[0m \u001b[38;5;28mprint\u001b[39m(\u001b[38;5;124m\"\u001b[39m\u001b[38;5;124m1.0:    \u001b[39m\u001b[38;5;124m\"\u001b[39m, \u001b[43mR_1_0_hv_avg\u001b[49m)\n\u001b[1;32m      3\u001b[0m \u001b[38;5;28mprint\u001b[39m(\u001b[38;5;124m\"\u001b[39m\u001b[38;5;124m0.5     \u001b[39m\u001b[38;5;124m\"\u001b[39m, R_0_5_hv_avg)\n\u001b[1;32m      4\u001b[0m \u001b[38;5;28mprint\u001b[39m(\u001b[38;5;124m\"\u001b[39m\u001b[38;5;124m0.1     \u001b[39m\u001b[38;5;124m\"\u001b[39m, R_0_1_hv_avg)\n",
      "\u001b[0;31mNameError\u001b[0m: name 'R_1_0_hv_avg' is not defined"
     ]
    }
   ],
   "source": [
    "print(\"RANDOM Avg Hypervolume\")\n",
    "print(\"1.0:    \", R_1_0_hv_avg)\n",
    "print(\"0.5     \", R_0_5_hv_avg)\n",
    "print(\"0.1     \", R_0_1_hv_avg)\n",
    "print(\"0.01:   \", R_0_01_hv_avg)\n",
    "print(\"0.001:  \" ,R_0_001_hv_avg)\n",
    "print(\"0.0001: \", R_0_0001_hv_avg)\n",
    "\n",
    "print(\"-----\")\n",
    "\n",
    "print(\"MORE_SLACK Avg Hypervolume\")\n",
    "print(\"1.0:    \", MS_1_0_hv_avg)\n",
    "print(\"0.5     \", MS_0_5_hv_avg)\n",
    "print(\"0.1     \", MS_0_1_hv_avg)\n",
    "print(\"0.01:   \", MS_0_01_hv_avg)\n",
    "print(\"0.001:  \" ,MS_0_001_hv_avg)\n",
    "print(\"0.0001: \", MS_0_0001_hv_avg)"
   ]
  },
  {
   "cell_type": "code",
   "execution_count": 11,
   "id": "b784cb30-f529-4345-b2c7-fea5d66170cd",
   "metadata": {},
   "outputs": [
    {
     "ename": "NameError",
     "evalue": "name 'MS_1_0' is not defined",
     "output_type": "error",
     "traceback": [
      "\u001b[0;31m---------------------------------------------------------------------------\u001b[0m",
      "\u001b[0;31mNameError\u001b[0m                                 Traceback (most recent call last)",
      "Cell \u001b[0;32mIn[11], line 8\u001b[0m\n\u001b[1;32m      5\u001b[0m R_0_001_sparsity \u001b[38;5;241m=\u001b[39m R_0_001[\u001b[38;5;124m\"\u001b[39m\u001b[38;5;124msparsity\u001b[39m\u001b[38;5;124m\"\u001b[39m]\u001b[38;5;241m.\u001b[39mto_list()\n\u001b[1;32m      6\u001b[0m R_0_0001_sparsity \u001b[38;5;241m=\u001b[39m R_0_0001[\u001b[38;5;124m\"\u001b[39m\u001b[38;5;124msparsity\u001b[39m\u001b[38;5;124m\"\u001b[39m]\u001b[38;5;241m.\u001b[39mto_list()\n\u001b[0;32m----> 8\u001b[0m MS_1_0_sparsity \u001b[38;5;241m=\u001b[39m \u001b[43mMS_1_0\u001b[49m[\u001b[38;5;124m\"\u001b[39m\u001b[38;5;124msparsity\u001b[39m\u001b[38;5;124m\"\u001b[39m]\u001b[38;5;241m.\u001b[39mto_list()\n\u001b[1;32m      9\u001b[0m MS_0_5_sparsity \u001b[38;5;241m=\u001b[39m MS_0_5[\u001b[38;5;124m\"\u001b[39m\u001b[38;5;124msparsity\u001b[39m\u001b[38;5;124m\"\u001b[39m]\u001b[38;5;241m.\u001b[39mto_list()\n\u001b[1;32m     10\u001b[0m MS_0_1_sparsity \u001b[38;5;241m=\u001b[39m MS_0_1[\u001b[38;5;124m\"\u001b[39m\u001b[38;5;124msparsity\u001b[39m\u001b[38;5;124m\"\u001b[39m]\u001b[38;5;241m.\u001b[39mto_list()\n",
      "\u001b[0;31mNameError\u001b[0m: name 'MS_1_0' is not defined"
     ]
    }
   ],
   "source": [
    "R_1_0_sparsity = R_1_0[\"sparsity\"].to_list()\n",
    "R_0_5_sparsity = R_0_5[\"sparsity\"].to_list()\n",
    "R_0_1_sparsity = R_0_1[\"sparsity\"].to_list()\n",
    "R_0_01_sparsity = R_0_01[\"sparsity\"].to_list()\n",
    "R_0_001_sparsity = R_0_001[\"sparsity\"].to_list()\n",
    "R_0_0001_sparsity = R_0_0001[\"sparsity\"].to_list()\n",
    "\n",
    "MS_1_0_sparsity = MS_1_0[\"sparsity\"].to_list()\n",
    "MS_0_5_sparsity = MS_0_5[\"sparsity\"].to_list()\n",
    "MS_0_1_sparsity = MS_0_1[\"sparsity\"].to_list()\n",
    "MS_0_01_sparsity = MS_0_01[\"sparsity\"].to_list()\n",
    "MS_0_001_sparsity = MS_0_001[\"sparsity\"].to_list()\n",
    "MS_0_0001_sparsity = MS_0_0001[\"sparsity\"].to_list()"
   ]
  },
  {
   "cell_type": "code",
   "execution_count": 62,
   "id": "f21a27a1-caf8-4fe5-b56f-967e4e1789a9",
   "metadata": {},
   "outputs": [],
   "source": [
    "R_1_0_sparsity_avg = np.mean(R_1_0_sparsity)\n",
    "R_0_5_sparsity_avg = np.mean(R_0_5_sparsity)\n",
    "R_0_1_sparsity_avg = np.mean(R_0_1_sparsity)\n",
    "R_0_01_sparsity_avg = np.mean(R_0_01_sparsity)\n",
    "R_0_001_sparsity_avg = np.mean(R_0_001_sparsity)\n",
    "R_0_0001_sparsity_avg = np.mean(R_0_0001_sparsity)\n",
    "\n",
    "MS_1_0_sparsity_avg = np.mean(MS_1_0_sparsity)\n",
    "MS_0_5_sparsity_avg = np.mean(MS_0_5_sparsity)\n",
    "MS_0_1_sparsity_avg = np.mean(MS_0_1_sparsity)\n",
    "MS_0_01_sparsity_avg = np.mean(MS_0_01_sparsity)\n",
    "MS_0_001_sparsity_avg = np.mean(MS_0_001_sparsity)\n",
    "MS_0_0001_sparsity_avg = np.mean(MS_0_0001_sparsity)"
   ]
  },
  {
   "cell_type": "code",
   "execution_count": 64,
   "id": "f635c218-adeb-495d-997a-3f82cafb4e32",
   "metadata": {},
   "outputs": [
    {
     "data": {
      "image/png": "[encoded data removed]",
      "text/plain": [
       "<Figure size 640x480 with 1 Axes>"
      ]
     },
     "metadata": {},
     "output_type": "display_data"
    },
    {
     "data": {
      "image/png": "[encoded data removed]",
      "text/plain": [
       "<Figure size 640x480 with 1 Axes>"
      ]
     },
     "metadata": {},
     "output_type": "display_data"
    }
   ],
   "source": [
    "# Average Sparsity\n",
    "Col = [\n",
    "\"R_1_0\", \n",
    "\"R_0_5\",\n",
    "\"R_0_1\",\n",
    "\"R_0_01\",\n",
    "\"R_0_001\",\n",
    "\"R_0_0001\"]\n",
    "Val = [\n",
    "R_1_0_sparsity_avg, \n",
    "R_0_5_sparsity_avg,\n",
    "R_0_1_sparsity_avg,\n",
    "R_0_01_sparsity_avg,\n",
    "R_0_001_sparsity_avg,\n",
    "R_0_0001_sparsity_avg]\n",
    "\n",
    "plt.bar(Col,Val)\n",
    "plt.title(\"Random Average Sparsity\")\n",
    "plt.yscale(\"log\")\n",
    "plt.show()\n",
    "\n",
    "\n",
    "Col = [\n",
    "\"MS_1_0\", \n",
    "\"MS_0_5\",\n",
    "\"MS_0_1\",\n",
    "\"MS_0_01\",\n",
    "\"MS_0_001\",\n",
    "\"MS_0_0001\"]\n",
    "Val = [\n",
    "MS_1_0_sparsity_avg, \n",
    "MS_0_5_sparsity_avg,\n",
    "MS_0_1_sparsity_avg,\n",
    "MS_0_01_sparsity_avg,\n",
    "MS_0_001_sparsity_avg,\n",
    "MS_0_0001_sparsity_avg]\n",
    "\n",
    "plt.bar(Col,Val)\n",
    "plt.title(\"MORE_SLACK Average Sparsity\")\n",
    "plt.yscale(\"log\")\n",
    "plt.show()"
   ]
  },
  {
   "cell_type": "code",
   "execution_count": 57,
   "id": "77ae8751-73d5-4d15-854d-d3110c3ce2b8",
   "metadata": {},
   "outputs": [
    {
     "name": "stdout",
     "output_type": "stream",
     "text": [
      "Merge Method: Random Avg Sparsity\n",
      "1.0:     1572396000000.0\n",
      "0.5      1298386744000.0\n",
      "0.1      125181840240.0\n",
      "0.01:    6672121640.0\n",
      "0.001:   189828049.88\n",
      "0.0001:  77189245.22399999\n",
      "-----\n",
      "Merge Method: MORE_SLACK Avg Sparsity\n",
      "1.0:     1297948000000.0\n",
      "0.5      2090551449200.0\n",
      "0.1      111855144960.0\n",
      "0.01:    8770182530.8\n",
      "0.001:   198188678.16\n",
      "0.0001:  70141270.33600001\n"
     ]
    }
   ],
   "source": [
    "print(\"Merge Method: Random Avg Sparsity\")\n",
    "print(\"1.0:    \", R_1_0_sparsity_avg)\n",
    "print(\"0.5     \", R_0_5_sparsity_avg)\n",
    "print(\"0.1     \", R_0_1_sparsity_avg)\n",
    "print(\"0.01:   \", R_0_01_sparsity_avg)\n",
    "print(\"0.001:  \" ,R_0_001_sparsity_avg)\n",
    "print(\"0.0001: \", R_0_0001_sparsity_avg)\n",
    "\n",
    "print(\"-----\")\n",
    "\n",
    "print(\"Merge Method: MORE_SLACK Avg Sparsity\")\n",
    "print(\"1.0:    \", MS_1_0_sparsity_avg)\n",
    "print(\"0.5     \", MS_0_5_sparsity_avg)\n",
    "print(\"0.1     \", MS_0_1_sparsity_avg)\n",
    "print(\"0.01:   \", MS_0_01_sparsity_avg)\n",
    "print(\"0.001:  \" ,MS_0_001_sparsity_avg)\n",
    "print(\"0.0001: \", MS_0_0001_sparsity_avg)"
   ]
  },
  {
   "cell_type": "code",
   "execution_count": 22,
   "id": "978a3b2c-8c4c-4894-b5bc-f1e51f22d91b",
   "metadata": {},
   "outputs": [],
   "source": [
    "# time\n",
    "R_1_0_time = R_1_0[\"time\"].to_list()\n",
    "R_0_5_time = R_0_5[\"time\"].to_list()\n",
    "R_0_1_time = R_0_1[\"time\"].to_list()\n",
    "R_0_01_time = R_0_01[\"time\"].to_list()\n",
    "R_0_001_time = R_0_001[\"time\"].to_list()\n",
    "R_0_0001_time = R_0_0001[\"time\"].to_list()\n",
    "\n",
    "MS_1_0_time = MS_1_0[\"time\"].to_list()\n",
    "MS_0_5_time = MS_0_5[\"time\"].to_list()\n",
    "MS_0_1_time = MS_0_1[\"time\"].to_list()\n",
    "MS_0_01_time = MS_0_01[\"time\"].to_list()\n",
    "MS_0_001_time = MS_0_001[\"time\"].to_list()\n",
    "MS_0_0001_time = MS_0_0001[\"time\"].to_list()"
   ]
  },
  {
   "cell_type": "code",
   "execution_count": 58,
   "id": "f63f7564-17db-4b19-b615-519c60c9eb20",
   "metadata": {},
   "outputs": [
    {
     "name": "stdout",
     "output_type": "stream",
     "text": [
      "Random avg 1.00 runtime:   544.88 ms\n",
      "Random avg 0.50 runtime:   3203.88 ms\n",
      "Random avg 0.10 runtime:   73072.84 ms\n",
      "Random avg 0.01 runtime:   225625.68 ms\n",
      "Random avg 0.001 runtime:  237332.12 ms\n",
      "-----\n",
      "Random avg 1.00 runtime:   352.96 ms\n",
      "Random avg 0.50 runtime:   1423.96 ms\n",
      "Random avg 0.10 runtime:   33308.56 ms\n",
      "Random avg 0.01 runtime:   223713.24 ms\n",
      "Random avg 0.001 runtime:  235654.84 ms\n"
     ]
    }
   ],
   "source": [
    "print(\"Random avg 1.00 runtime:  \", np.mean(R_1_0_time), \"ms\")\n",
    "print(\"Random avg 0.50 runtime:  \", np.mean(R_0_5_time), \"ms\")\n",
    "print(\"Random avg 0.10 runtime:  \", np.mean(R_0_1_time), \"ms\")\n",
    "print(\"Random avg 0.01 runtime:  \", np.mean(R_0_001_time), \"ms\")\n",
    "print(\"Random avg 0.001 runtime: \", np.mean(R_0_0001_time), \"ms\")\n",
    "\n",
    "print(\"-----\")\n",
    "\n",
    "print(\"Random avg 1.00 runtime:  \", np.mean(MS_1_0_time), \"ms\")\n",
    "print(\"Random avg 0.50 runtime:  \", np.mean(MS_0_5_time), \"ms\")\n",
    "print(\"Random avg 0.10 runtime:  \", np.mean(MS_0_1_time), \"ms\")\n",
    "print(\"Random avg 0.01 runtime:  \", np.mean(MS_0_001_time), \"ms\")\n",
    "print(\"Random avg 0.001 runtime: \", np.mean(MS_0_0001_time), \"ms\")"
   ]
  },
  {
   "cell_type": "code",
   "execution_count": 70,
   "id": "630aa062-2473-40ef-b555-848ee3f4c0b3",
   "metadata": {},
   "outputs": [
    {
     "data": {
      "image/png": "[encoded data removed]",
      "text/plain": [
       "<Figure size 640x480 with 1 Axes>"
      ]
     },
     "metadata": {},
     "output_type": "display_data"
    },
    {
     "data": {
      "image/png": "[encoded data removed]",
      "text/plain": [
       "<Figure size 640x480 with 1 Axes>"
      ]
     },
     "metadata": {},
     "output_type": "display_data"
    }
   ],
   "source": [
    "label = [\"R_1_0\", \"R_0_5\", \"R_0_1\", \"R_0_01\", \"R_0_001\", \"R_0_0001\"]\n",
    "runtimes = [R_1_0_time, R_0_5_time, R_0_1_time, R_0_01_time, R_0_001_time, R_0_0001_time]\n",
    "\n",
    "plt.boxplot(runtimes, tick_labels=label)\n",
    "plt.yscale(\"log\")\n",
    "plt.xlabel(\"ms\")\n",
    "plt.title(\"RANDOM runtime distrabution\")\n",
    "plt.show()\n",
    "\n",
    "label = [\"MS_1_0\", \"MS_0_5\", \"MS_0_1\", \"MS_0_01\", \"MS_0_001\", \"MS_0_0001\"]\n",
    "runtimes = [MS_1_0_time, MS_0_5_time, MS_0_1_time, MS_0_01_time, MS_0_001_time, MS_0_0001_time]\n",
    "\n",
    "plt.boxplot(runtimes, tick_labels=label)\n",
    "plt.yscale(\"log\")\n",
    "plt.xlabel(\"ms\")\n",
    "plt.title(\"MORE_SLACK runtime distrabution\")\n",
    "plt.show()"
   ]
  },
  {
   "cell_type": "code",
   "execution_count": null,
   "id": "b1865e63-644e-4729-b518-66b4a710f315",
   "metadata": {},
   "outputs": [],
   "source": []
  }
 ],
 "metadata": {
  "kernelspec": {
   "display_name": "Python 3 (ipykernel)",
   "language": "python",
   "name": "python3"
  },
  "language_info": {
   "codemirror_mode": {
    "name": "ipython",
    "version": 3
   },
   "file_extension": ".py",
   "mimetype": "text/x-python",
   "name": "python",
   "nbconvert_exporter": "python",
   "pygments_lexer": "ipython3",
   "version": "3.12.2"
  }
 },
 "nbformat": 4,
 "nbformat_minor": 5
}
