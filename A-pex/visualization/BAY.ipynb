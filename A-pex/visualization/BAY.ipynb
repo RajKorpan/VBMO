{
 "cells": [
  {
   "cell_type": "code",
   "execution_count": 4,
   "id": "9d297ccb-bf60-4621-a2f8-c54da5d9e2bb",
   "metadata": {},
   "outputs": [],
   "source": [
    "import numpy as np                  \n",
    "import pandas as pd      \n",
    "import json\n",
    "import platypus as plat        \n",
    "from matplotlib import pyplot as plt\n",
    "import pygmo as pg"
   ]
  },
  {
   "cell_type": "code",
   "execution_count": 37,
   "id": "5d1ed2bc-1d8c-4bfe-9422-e5a09ab496d6",
   "metadata": {},
   "outputs": [
    {
     "ename": "FileNotFoundError",
     "evalue": "[Errno 2] No such file or directory: '1.0-BAY-RANDOM.json'",
     "output_type": "error",
     "traceback": [
      "\u001b[0;31m---------------------------------------------------------------------------\u001b[0m",
      "\u001b[0;31mFileNotFoundError\u001b[0m                         Traceback (most recent call last)",
      "Cell \u001b[0;32mIn[37], line 1\u001b[0m\n\u001b[0;32m----> 1\u001b[0m R_1_0 \u001b[38;5;241m=\u001b[39m pd\u001b[38;5;241m.\u001b[39mjson_normalize(json\u001b[38;5;241m.\u001b[39mload(\u001b[38;5;28;43mopen\u001b[39;49m\u001b[43m(\u001b[49m\u001b[38;5;124;43m\"\u001b[39;49m\u001b[38;5;124;43m1.0-BAY-RANDOM.json\u001b[39;49m\u001b[38;5;124;43m\"\u001b[39;49m\u001b[43m)\u001b[49m)[\u001b[38;5;124m\"\u001b[39m\u001b[38;5;124mdata\u001b[39m\u001b[38;5;124m\"\u001b[39m])\n\u001b[1;32m      2\u001b[0m R_0_5 \u001b[38;5;241m=\u001b[39m pd\u001b[38;5;241m.\u001b[39mjson_normalize(json\u001b[38;5;241m.\u001b[39mload(\u001b[38;5;28mopen\u001b[39m(\u001b[38;5;124m\"\u001b[39m\u001b[38;5;124m0.5-BAY-RANDOM.json\u001b[39m\u001b[38;5;124m\"\u001b[39m))[\u001b[38;5;124m\"\u001b[39m\u001b[38;5;124mdata\u001b[39m\u001b[38;5;124m\"\u001b[39m])\n\u001b[1;32m      3\u001b[0m R_0_1 \u001b[38;5;241m=\u001b[39m pd\u001b[38;5;241m.\u001b[39mjson_normalize(json\u001b[38;5;241m.\u001b[39mload(\u001b[38;5;28mopen\u001b[39m(\u001b[38;5;124m\"\u001b[39m\u001b[38;5;124m0.1-BAY-RANDOM.json\u001b[39m\u001b[38;5;124m\"\u001b[39m))[\u001b[38;5;124m\"\u001b[39m\u001b[38;5;124mdata\u001b[39m\u001b[38;5;124m\"\u001b[39m])\n",
      "File \u001b[0;32m/opt/anaconda3/envs/VBEA/lib/python3.12/site-packages/IPython/core/interactiveshell.py:324\u001b[0m, in \u001b[0;36m_modified_open\u001b[0;34m(file, *args, **kwargs)\u001b[0m\n\u001b[1;32m    317\u001b[0m \u001b[38;5;28;01mif\u001b[39;00m file \u001b[38;5;129;01min\u001b[39;00m {\u001b[38;5;241m0\u001b[39m, \u001b[38;5;241m1\u001b[39m, \u001b[38;5;241m2\u001b[39m}:\n\u001b[1;32m    318\u001b[0m     \u001b[38;5;28;01mraise\u001b[39;00m \u001b[38;5;167;01mValueError\u001b[39;00m(\n\u001b[1;32m    319\u001b[0m         \u001b[38;5;124mf\u001b[39m\u001b[38;5;124m\"\u001b[39m\u001b[38;5;124mIPython won\u001b[39m\u001b[38;5;124m'\u001b[39m\u001b[38;5;124mt let you open fd=\u001b[39m\u001b[38;5;132;01m{\u001b[39;00mfile\u001b[38;5;132;01m}\u001b[39;00m\u001b[38;5;124m by default \u001b[39m\u001b[38;5;124m\"\u001b[39m\n\u001b[1;32m    320\u001b[0m         \u001b[38;5;124m\"\u001b[39m\u001b[38;5;124mas it is likely to crash IPython. If you know what you are doing, \u001b[39m\u001b[38;5;124m\"\u001b[39m\n\u001b[1;32m    321\u001b[0m         \u001b[38;5;124m\"\u001b[39m\u001b[38;5;124myou can use builtins\u001b[39m\u001b[38;5;124m'\u001b[39m\u001b[38;5;124m open.\u001b[39m\u001b[38;5;124m\"\u001b[39m\n\u001b[1;32m    322\u001b[0m     )\n\u001b[0;32m--> 324\u001b[0m \u001b[38;5;28;01mreturn\u001b[39;00m \u001b[43mio_open\u001b[49m\u001b[43m(\u001b[49m\u001b[43mfile\u001b[49m\u001b[43m,\u001b[49m\u001b[43m \u001b[49m\u001b[38;5;241;43m*\u001b[39;49m\u001b[43margs\u001b[49m\u001b[43m,\u001b[49m\u001b[43m \u001b[49m\u001b[38;5;241;43m*\u001b[39;49m\u001b[38;5;241;43m*\u001b[39;49m\u001b[43mkwargs\u001b[49m\u001b[43m)\u001b[49m\n",
      "\u001b[0;31mFileNotFoundError\u001b[0m: [Errno 2] No such file or directory: '1.0-BAY-RANDOM.json'"
     ]
    }
   ],
   "source": [
    "R_1_0 = pd.json_normalize(json.load(open(\"1.0-BAY-RANDOM.json\"))[\"data\"])\n",
    "R_0_5 = pd.json_normalize(json.load(open(\"0.5-BAY-RANDOM.json\"))[\"data\"])\n",
    "R_0_1 = pd.json_normalize(json.load(open(\"0.1-BAY-RANDOM.json\"))[\"data\"])\n",
    "R_0_01 = pd.json_normalize(json.load(open(\"0.01-BAY-RANDOM.json\"))[\"data\"])\n",
    "R_0_001 = pd.json_normalize(json.load(open(\"0.001-BAY-RANDOM.json\"))[\"data\"])\n",
    "R_0_0001 = pd.json_normalize(json.load(open(\"0.0001-BAY-RANDOM.json\"))[\"data\"])\n",
    "\n",
    "MS_1_0 = pd.json_normalize(json.load(open(\"1.0-BAY-MORE_SLACK.json\"))[\"data\"])\n",
    "MS_0_5 = pd.json_normalize(json.load(open(\"0.5-BAY-MORE_SLACK.json\"))[\"data\"])\n",
    "MS_0_1 = pd.json_normalize(json.load(open(\"0.1-BAY-MORE_SLACK.json\"))[\"data\"])\n",
    "MS_0_01 = pd.json_normalize(json.load(open(\"0.01-BAY-MORE_SLACK.json\"))[\"data\"])\n",
    "MS_0_001 = pd.json_normalize(json.load(open(\"0.001-BAY-MORE_SLACK.json\"))[\"data\"])\n",
    "MS_0_0001 = pd.json_normalize(json.load(open(\"0.0001-BAY-MORE_SLACK.json\"))[\"data\"])\n"
   ]
  },
  {
   "cell_type": "code",
   "execution_count": 14,
   "id": "3f46988c-7337-4fc8-8658-73fdb7649c3c",
   "metadata": {},
   "outputs": [],
   "source": [
    "#front must be a 2d matrix\n",
    "# calculates the HV of a front\n",
    "def front_hv(front):\n",
    "    inver = [] # make all objective cost negative\n",
    "    for row in front:\n",
    "        temp_row = []\n",
    "        for val in row:\n",
    "            temp_row.append(-val)\n",
    "    inver.append(temp_row)\n",
    "    \n",
    "    ref = [0] * len(front[0]) # always use reference point {0, 0, ..., 0}\n",
    "    hv = pg.hypervolume(inver) #initialize hypervolume object\n",
    "    # Sometimes the front is too small to use \n",
    "    try: \n",
    "        h = hv.compute(ref)\n",
    "    except ValueError:\n",
    "        h = -1\n",
    "        print(\"-----------------------\", \"\\n\", \"no good ref point\")\n",
    "        print(front)\n",
    "    return h"
   ]
  },
  {
   "cell_type": "code",
   "execution_count": 35,
   "id": "023f1b70-3086-4d47-b6e9-17c991a6abfc",
   "metadata": {},
   "outputs": [],
   "source": [
    "def DF_HV(df):\n",
    "    return front_hv(df[\"front\"].to_list())"
   ]
  },
  {
   "cell_type": "code",
   "execution_count": null,
   "id": "8c9877f4-7a13-4c27-9946-eeb2cc690569",
   "metadata": {},
   "outputs": [],
   "source": []
  },
  {
   "cell_type": "code",
   "execution_count": 25,
   "id": "efe76549-7d41-4149-bdc6-029c64aafd07",
   "metadata": {},
   "outputs": [
    {
     "name": "stdout",
     "output_type": "stream",
     "text": [
      "hypervolume:\n",
      "map HV avg min:  -1\n",
      "map HV avg max:  3.0163813652644148e+16\n",
      "overall HV avg:  126312878037716.27\n"
     ]
    }
   ],
   "source": [
    "print(\"X Hypervolume:\")\n",
    "print(\"min: \", min(hv))\n",
    "print(\"max: \", max(hv))\n",
    "print(\"overall HV avg: \", )"
   ]
  },
  {
   "cell_type": "code",
   "execution_count": null,
   "id": "64ac0912-a4a7-4383-9fc5-d404fc376ed7",
   "metadata": {},
   "outputs": [],
   "source": []
  },
  {
   "cell_type": "code",
   "execution_count": 22,
   "id": "b784cb30-f529-4345-b2c7-fea5d66170cd",
   "metadata": {},
   "outputs": [],
   "source": [
    "R_1_0_sparsity = R_1_0[\"sparsity\"].to_list()\n",
    "R_0_5_sparsity = R_0_5[\"sparsity\"].to_list()\n",
    "R_0_1_sparsity = R_0_1[\"sparsity\"].to_list()\n",
    "R_0_01_sparsity = R_0_01[\"sparsity\"].to_list()\n",
    "R_0_001_sparsity = R_0_001[\"sparsity\"].to_list()\n",
    "R_0_0001_sparsity = R_0_0001[\"sparsity\"].to_list()\n",
    "\n",
    "MS_1_0_sparsity = MS_1_0[\"sparsity\"].to_list()\n",
    "MS_0_5_sparsity = MS_0_5[\"sparsity\"].to_list()\n",
    "MS_0_1_sparsity = MS_0_1[\"sparsity\"].to_list()\n",
    "MS_0_01_sparsity = MS_0_01[\"sparsity\"].to_list()\n",
    "MS_0_001_sparsity = MS_0_001[\"sparsity\"].to_list()\n",
    "MS_0_0001_sparsity = MS_0_0001[\"sparsity\"].to_list()"
   ]
  },
  {
   "cell_type": "code",
   "execution_count": 26,
   "id": "f21a27a1-caf8-4fe5-b56f-967e4e1789a9",
   "metadata": {},
   "outputs": [],
   "source": [
    "R_1_0_sparsity_avg = np.mean(R_1_0_sparsity)\n",
    "R_0_5_sparsity_avg = np.mean(R_0_5_sparsity)\n",
    "R_0_1_sparsity_avg = np.mean(R_0_1_sparsity)\n",
    "R_0_01_sparsity_avg = np.mean(R_0_01_sparsity)\n",
    "R_0_001_sparsity_avg = np.mean(R_0_001_sparsity)\n",
    "R_0_0001_sparsity_avg = np.mean(R_0_0001_sparsity)\n",
    "\n",
    "MS_1_0_sparsity_avg = np.mean(MS_1_0_sparsity)\n",
    "MS_0_5_sparsity_avg = np.mean(MS_0_5_sparsity)\n",
    "MS_0_1_sparsity_avg = np.mean(MS_0_1_sparsity)\n",
    "MS_0_01_sparsity_avg = np.mean(MS_0_01_sparsity)\n",
    "MS_0_001_sparsity_avg = np.mean(MS_0_001_sparsity)\n",
    "MS_0_0001_sparsity_avg = np.mean(MS_0_0001_sparsity)"
   ]
  },
  {
   "cell_type": "code",
   "execution_count": 33,
   "id": "f635c218-adeb-495d-997a-3f82cafb4e32",
   "metadata": {},
   "outputs": [
    {
     "data": {
      "image/png": "[encoded data removed]",
      "text/plain": [
       "<Figure size 640x480 with 1 Axes>"
      ]
     },
     "metadata": {},
     "output_type": "display_data"
    }
   ],
   "source": [
    "# Average\n",
    "Col = [\n",
    "\"R_1_0\", \n",
    "\"R_0_5\",\n",
    "\"R_0_1\",\n",
    "\"R_0_01\",\n",
    "\"R_0_001\",\n",
    "\"R_0_0001\"]\n",
    "Val = [\n",
    "R_1_0_sparsity_avg, \n",
    "R_0_5_sparsity_avg,\n",
    "R_0_1_sparsity_avg,\n",
    "R_0_01_sparsity_avg,\n",
    "R_0_001_sparsity_avg,\n",
    "R_0_0001_sparsity_avg]\n",
    "\n",
    "plt.bar(Col,Val)\n",
    "plt.show()"
   ]
  },
  {
   "cell_type": "code",
   "execution_count": 34,
   "id": "2c9dc47e-d940-4541-9791-0eb63e321ed0",
   "metadata": {},
   "outputs": [
    {
     "data": {
      "image/png": "[encoded data removed]",
      "text/plain": [
       "<Figure size 640x480 with 1 Axes>"
      ]
     },
     "metadata": {},
     "output_type": "display_data"
    }
   ],
   "source": [
    "Col = [\n",
    "\"MS_1_0\", \n",
    "\"MS_0_5\",\n",
    "\"MS_0_1\",\n",
    "\"MS_0_01\",\n",
    "\"MS_0_001\",\n",
    "\"MS_0_0001\"]\n",
    "Val = [\n",
    "MS_1_0_sparsity_avg, \n",
    "MS_0_5_sparsity_avg,\n",
    "MS_0_1_sparsity_avg,\n",
    "MS_0_01_sparsity_avg,\n",
    "MS_0_001_sparsity_avg,\n",
    "MS_0_0001_sparsity_avg]\n",
    "\n",
    "plt.bar(Col,Val)\n",
    "plt.show()\n"
   ]
  },
  {
   "cell_type": "code",
   "execution_count": 36,
   "id": "c173b267-3086-4f7c-b6b8-83a3b87a2506",
   "metadata": {},
   "outputs": [
    {
     "data": {
      "image/png": "[encoded data removed]",
      "text/plain": [
       "<Figure size 640x480 with 1 Axes>"
      ]
     },
     "metadata": {},
     "output_type": "display_data"
    }
   ],
   "source": [
    "Col = [\n",
    "\"MS_1_0\", \n",
    "\"MS_0_5\",\n",
    "\"MS_0_1\",\n",
    "\"MS_0_01\",\n",
    "\"MS_0_001\",\n",
    "\"MS_0_0001\"]\n",
    "Val = [\n",
    "min(MS_1_0_sparsity), \n",
    "min(MS_0_5_sparsity),\n",
    "min(MS_0_1_sparsity),\n",
    "min(MS_0_01_sparsity),\n",
    "min(MS_0_001_sparsity),\n",
    "min(MS_0_0001_sparsity)]\n",
    "\n",
    "plt.bar(Col,Val)\n",
    "plt.show()\n"
   ]
  }
 ],
 "metadata": {
  "kernelspec": {
   "display_name": "Python 3 (ipykernel)",
   "language": "python",
   "name": "python3"
  },
  "language_info": {
   "codemirror_mode": {
    "name": "ipython",
    "version": 3
   },
   "file_extension": ".py",
   "mimetype": "text/x-python",
   "name": "python",
   "nbconvert_exporter": "python",
   "pygments_lexer": "ipython3",
   "version": "3.12.2"
  }
 },
 "nbformat": 4,
 "nbformat_minor": 5
}
